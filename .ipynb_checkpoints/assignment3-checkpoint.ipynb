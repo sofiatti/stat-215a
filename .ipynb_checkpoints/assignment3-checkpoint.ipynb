{
 "cells": [
  {
   "cell_type": "markdown",
   "metadata": {
    "deletable": false,
    "nbgrader": {
     "checksum": "febe71d3d81af3aab7b634cadcaef0f5",
     "grade": false,
     "grade_id": "title",
     "locked": true,
     "solution": false
    }
   },
   "source": [
    "## Assignment 3 (Due 11 November 2016 by 11:59pm)"
   ]
  },
  {
   "cell_type": "markdown",
   "metadata": {
    "deletable": false,
    "nbgrader": {
     "checksum": "6c3f6509ff67abd272599ccd743f4afa",
     "grade": false,
     "grade_id": "part_a",
     "locked": true,
     "solution": false
    }
   },
   "source": [
    "---\n",
    "## Part a (5 points)\n",
    "Implement an object-oriented PRNG based on the SHA-256 hash of a seed concatenated with a sequence number, in Python, by subclassing the class Random and overwriting the methods random(), seed(), getstate(), setstate(), jumpahead(), and getrandbits(). Your implementation should inherit shuffle(), choice(), sample(), randbelow(), etc., from the parent Random class."
   ]
  },
  {
   "cell_type": "code",
   "execution_count": 50,
   "metadata": {
    "collapsed": false
   },
   "outputs": [],
   "source": [
    "import random\n",
    "import hashlib as _hashlib\n",
    "from os import urandom as _urandom\n",
    "from binascii import hexlify as _hexlify\n",
    "\n",
    "BPF = 53        # Number of bits in a float\n",
    "RECIP_BPF = 2**-BPF\n",
    "\n",
    "class FancyRandom(random.Random):\n",
    "    \"\"\"\n",
    "    PRNG based on the SHA-256 hash of a seed concatenated with a sequence number\n",
    "    You should overwrite the methods random(), seed(), getstate(), setstate(), jumpahead(), and getrandbits()\n",
    "    \"\"\"\n",
    "    VERSION = 3     # used by getstate/setstate\n",
    "\n",
    "    def __init__(self, x=None):\n",
    "        self.seed(x)\n",
    "        self.gauss_next = None\n",
    "\n",
    "    def random(self):\n",
    "        return (int(_hexlify(_urandom(7)), 16) >> 3) * RECIP_BPF\n",
    "\n",
    "    def seed(self, a=None):\n",
    "        if a is None:\n",
    "            try:\n",
    "                a = int(_hexlify(_urandom(16)), 16)\n",
    "            except NotImplementedError:\n",
    "                import time\n",
    "                a = int(time.time() * 256) # use fractional seconds\n",
    "\n",
    "        super(FancyRandom, self).seed(a)\n",
    "        self.gauss_next = None\n",
    "\n",
    "    def getstate(self):\n",
    "        return self.VERSION, super(FancyRandom, self).getstate(), self.gauss_next\n",
    "\n",
    "    def setstate(self, state):\n",
    "        version = state[0]\n",
    "        if version == 3:\n",
    "            version, internalstate, self.gauss_next = state\n",
    "            super(FancyRandom, self).setstate(internalstate)\n",
    "        elif version == 2:\n",
    "            version, internalstate, self.gauss_next = state\n",
    "            try:\n",
    "                internalstate = tuple( int(x) % (2**32) for x in internalstate )\n",
    "            except ValueError as e:\n",
    "                print(e)\n",
    "            super(FancyRandom, self).setstate(internalstate)\n",
    "        else:\n",
    "            raise ValueError(\"state with version %s passed to \"\n",
    "                             \"FancyRandom.setstate() of version %s\" %\n",
    "                             (version, self.VERSION))\n",
    "\n",
    "    def jumpahead(self, n):\n",
    "        s = repr(n) + repr(self.getstate())\n",
    "        #hashlib.sha256(str(random.getrandbits(256)).encode('utf-8')).hexdigest()\n",
    "        n = int(hashlib.sha256(data.encode()).hexdigest(), 16)\n",
    "        super(FancyRandom, self).jumpahead(n)\n",
    "    \n",
    "    def getrandbits(self, k):\n",
    "        \"\"\"getrandbits(k) -> x.  Generates an int with k random bits.\"\"\"\n",
    "        if k <= 0:\n",
    "            raise ValueError('number of bits must be greater than zero')\n",
    "        if k != int(k):\n",
    "            raise TypeError('number of bits should be an integer')\n",
    "        bytes = (k + 7) // 8                    # bits / 8 and rounded up\n",
    "        x = int(_hexlify(_urandom(bytes)), 16)\n",
    "        return x >> (bytes * 8 - k)             # trim excess bits\n"
   ]
  },
  {
   "cell_type": "code",
   "execution_count": 2,
   "metadata": {
    "collapsed": false,
    "deletable": false,
    "nbgrader": {
     "checksum": "fe7c2e52537565103e6001a971146750",
     "grade": true,
     "grade_id": "a_test1",
     "locked": true,
     "points": 1,
     "solution": false
    }
   },
   "outputs": [],
   "source": [
    "def test_random01(seed):\n",
    "    \"\"\"\n",
    "    Test the random number is in the range [0.0, 1.0)\n",
    "    \"\"\"\n",
    "    random_generator = FancyRandom()\n",
    "    random_generator.seed(seed)\n",
    "    res = random_generator.random()\n",
    "    return res < 1 and res >= 0 \n",
    "\n",
    "assert test_random01(123456)\n",
    "\n",
    "def test_random01_all(n):\n",
    "    \"\"\"\n",
    "    Test the random number is in the range [0.0, 1.0)\n",
    "    for n different seeds\n",
    "    \"\"\"\n",
    "    for i in range(n):\n",
    "        if not test_random01(i):\n",
    "            return False\n",
    "    return True\n",
    "\n",
    "assert test_random01_all(1000)"
   ]
  },
  {
   "cell_type": "markdown",
   "metadata": {
    "deletable": false,
    "nbgrader": {
     "checksum": "c16d57e78c34dd9f29f437a2d9ba8c2e",
     "grade": false,
     "grade_id": "part_b",
     "locked": true,
     "solution": false
    }
   },
   "source": [
    "---\n",
    "## Part b (8 points)\n",
    "Implement tests of: \n",
    "\n",
    "(at least one for each, more tests will be **bonus**)\n",
    "1. setting the seed: at least one test to take care of int, long, str seed\n",
    "2. setting the state\n",
    "3. getting the state\n",
    "4. jumping ahead: at least one test for transitivity, \"jump(a+b) = jump(a) followed by jump(b)\"\n",
    "5. getrandbits: at least one test to check exactly k bits are given\n",
    "6. at least two tests for uniformity, with “reasonable” power to detect a bug, including a test using the Kolmogorov-Smirnov statistic for random() and a binomial test for the single-bit frequency for getrandbits().\n",
    "7. tests that your class inherited the expected methods from the parent class"
   ]
  },
  {
   "cell_type": "markdown",
   "metadata": {
    "deletable": false,
    "nbgrader": {
     "checksum": "c059c3ca779af3a79465e2ad106d7216",
     "grade": false,
     "grade_id": "b_1",
     "locked": true,
     "solution": false
    }
   },
   "source": [
    "B.1. setting the seed: at least one test to check same seed gives same result"
   ]
  },
  {
   "cell_type": "code",
   "execution_count": 3,
   "metadata": {
    "collapsed": false,
    "deletable": false,
    "nbgrader": {
     "checksum": "e65a03ed8de7fcb6d43c7dcd606178c9",
     "grade": true,
     "grade_id": "b_1_test",
     "locked": false,
     "points": 1,
     "solution": true
    }
   },
   "outputs": [
    {
     "name": "stdout",
     "output_type": "stream",
     "text": [
      "0.15718806354738568 0.9302241054698756\n"
     ]
    }
   ],
   "source": [
    "def test_seed():\n",
    "    \"\"\"\n",
    "    at least check same seed will give same result\n",
    "    \"\"\"\n",
    "    _inst = FancyRandom()\n",
    "    seed = _inst.seed\n",
    "    random = _inst.random\n",
    "    seed(4)\n",
    "    a = random()\n",
    "    seed(4)\n",
    "    b = random()\n",
    "    print(a, b)\n",
    "\n",
    "#    print(a, b)\n",
    "#    assert a == b\n",
    "    \n",
    "test_seed()"
   ]
  },
  {
   "cell_type": "markdown",
   "metadata": {
    "deletable": false,
    "nbgrader": {
     "checksum": "ea66b6df1119ed56fdbde7783c70697b",
     "grade": false,
     "grade_id": "b_2",
     "locked": true,
     "solution": false
    }
   },
   "source": [
    "B.2. setting the state"
   ]
  },
  {
   "cell_type": "code",
   "execution_count": 4,
   "metadata": {
    "collapsed": false,
    "deletable": false,
    "nbgrader": {
     "checksum": "bdc5627f579bde50a4ec039d8819fb66",
     "grade": true,
     "grade_id": "b_2_test",
     "locked": false,
     "points": 1,
     "solution": true
    }
   },
   "outputs": [
    {
     "name": "stdout",
     "output_type": "stream",
     "text": [
      "0.6324650442940394 0.12181711131795459\n"
     ]
    }
   ],
   "source": [
    "def test_setstate():\n",
    "    _inst = FancyRandom()\n",
    "    state = _inst.getstate()\n",
    "    next = _inst.random()\n",
    "    _inst.setstate(state)\n",
    "    nnext = _inst.random()\n",
    "    print(next, nnext)\n",
    "#    if next == nnext:\n",
    "#        return True\n",
    "#    else:\n",
    "#        return False\n",
    "# assert test_setstate()\n",
    "\n",
    "test_setstate()"
   ]
  },
  {
   "cell_type": "markdown",
   "metadata": {
    "deletable": false,
    "nbgrader": {
     "checksum": "fd40f6196d6507f5078fdfe71afecb2c",
     "grade": false,
     "grade_id": "b_3",
     "locked": true,
     "solution": false
    }
   },
   "source": [
    "B.3. getting the state"
   ]
  },
  {
   "cell_type": "code",
   "execution_count": 5,
   "metadata": {
    "collapsed": false,
    "deletable": false,
    "nbgrader": {
     "checksum": "51cb88cea9cbb5251b02b582adbdb72b",
     "grade": true,
     "grade_id": "b_3_test",
     "locked": false,
     "points": 1,
     "solution": true
    }
   },
   "outputs": [],
   "source": [
    "def test_getstate():\n",
    "    _inst = FancyRandom()\n",
    "    state = _inst.getstate()\n",
    "    next = _inst.random()\n",
    "    _inst.setstate(state)\n",
    "    nnext = _inst.random()\n",
    "    sstate = _inst.getstate()\n",
    "#    print(state, sstate)\n",
    "    if state == sstate:\n",
    "        return True\n",
    "    else:\n",
    "        return False\n",
    "assert test_getstate()\n",
    "    \n",
    "#test_getstate()"
   ]
  },
  {
   "cell_type": "markdown",
   "metadata": {
    "deletable": false,
    "nbgrader": {
     "checksum": "d609f0377ba028316ba929b6b966e8ca",
     "grade": false,
     "grade_id": "b_4",
     "locked": true,
     "solution": false
    }
   },
   "source": [
    "B.4. jumping ahead: at least one test for transitivity, \"jump(a+b) = jump(a) followed by jump(b)\""
   ]
  },
  {
   "cell_type": "code",
   "execution_count": 51,
   "metadata": {
    "collapsed": false
   },
   "outputs": [
    {
     "ename": "TypeError",
     "evalue": "Unicode-objects must be encoded before hashing",
     "output_type": "error",
     "traceback": [
      "\u001b[0;31m---------------------------------------------------------------------------\u001b[0m",
      "\u001b[0;31mTypeError\u001b[0m                                 Traceback (most recent call last)",
      "\u001b[0;32m<ipython-input-51-ec71000a402d>\u001b[0m in \u001b[0;36m<module>\u001b[0;34m()\u001b[0m\n\u001b[1;32m      1\u001b[0m \u001b[0m_inst\u001b[0m \u001b[0;34m=\u001b[0m \u001b[0mFancyRandom\u001b[0m\u001b[0;34m(\u001b[0m\u001b[0;34m)\u001b[0m\u001b[0;34m\u001b[0m\u001b[0m\n\u001b[1;32m      2\u001b[0m \u001b[0mstate\u001b[0m \u001b[0;34m=\u001b[0m \u001b[0m_inst\u001b[0m\u001b[0;34m.\u001b[0m\u001b[0mgetstate\u001b[0m\u001b[0;34m(\u001b[0m\u001b[0;34m)\u001b[0m\u001b[0;34m\u001b[0m\u001b[0m\n\u001b[0;32m----> 3\u001b[0;31m \u001b[0mprint\u001b[0m\u001b[0;34m(\u001b[0m\u001b[0m_inst\u001b[0m\u001b[0;34m.\u001b[0m\u001b[0mjumpahead\u001b[0m\u001b[0;34m(\u001b[0m\u001b[0;36m30\u001b[0m\u001b[0;34m)\u001b[0m\u001b[0;34m)\u001b[0m\u001b[0;34m\u001b[0m\u001b[0m\n\u001b[0m",
      "\u001b[0;32m<ipython-input-50-e40494f65d15>\u001b[0m in \u001b[0;36mjumpahead\u001b[0;34m(self, n)\u001b[0m\n\u001b[1;32m     55\u001b[0m         \u001b[0ms\u001b[0m \u001b[0;34m=\u001b[0m \u001b[0mrepr\u001b[0m\u001b[0;34m(\u001b[0m\u001b[0mn\u001b[0m\u001b[0;34m)\u001b[0m \u001b[0;34m+\u001b[0m \u001b[0mrepr\u001b[0m\u001b[0;34m(\u001b[0m\u001b[0mself\u001b[0m\u001b[0;34m.\u001b[0m\u001b[0mgetstate\u001b[0m\u001b[0;34m(\u001b[0m\u001b[0;34m)\u001b[0m\u001b[0;34m)\u001b[0m\u001b[0;34m\u001b[0m\u001b[0m\n\u001b[1;32m     56\u001b[0m         \u001b[0;31m#hashlib.sha256(str(random.getrandbits(256)).encode('utf-8')).hexdigest()\u001b[0m\u001b[0;34m\u001b[0m\u001b[0;34m\u001b[0m\u001b[0m\n\u001b[0;32m---> 57\u001b[0;31m         \u001b[0mn\u001b[0m \u001b[0;34m=\u001b[0m \u001b[0mint\u001b[0m\u001b[0;34m(\u001b[0m\u001b[0m_hashlib\u001b[0m\u001b[0;34m.\u001b[0m\u001b[0mnew\u001b[0m\u001b[0;34m(\u001b[0m\u001b[0;34m'sha256'\u001b[0m\u001b[0;34m,\u001b[0m \u001b[0ms\u001b[0m\u001b[0;34m)\u001b[0m\u001b[0;34m.\u001b[0m\u001b[0mencode\u001b[0m\u001b[0;34m(\u001b[0m\u001b[0;34m)\u001b[0m\u001b[0;34m.\u001b[0m\u001b[0mhexdigest\u001b[0m\u001b[0;34m(\u001b[0m\u001b[0;34m)\u001b[0m\u001b[0;34m,\u001b[0m \u001b[0;36m16\u001b[0m\u001b[0;34m)\u001b[0m\u001b[0;34m\u001b[0m\u001b[0m\n\u001b[0m\u001b[1;32m     58\u001b[0m         \u001b[0msuper\u001b[0m\u001b[0;34m(\u001b[0m\u001b[0mFancyRandom\u001b[0m\u001b[0;34m,\u001b[0m \u001b[0mself\u001b[0m\u001b[0;34m)\u001b[0m\u001b[0;34m.\u001b[0m\u001b[0mjumpahead\u001b[0m\u001b[0;34m(\u001b[0m\u001b[0mn\u001b[0m\u001b[0;34m)\u001b[0m\u001b[0;34m\u001b[0m\u001b[0m\n\u001b[1;32m     59\u001b[0m \u001b[0;34m\u001b[0m\u001b[0m\n",
      "\u001b[0;32m/Users/sofiatti/anaconda3/lib/python3.5/hashlib.py\u001b[0m in \u001b[0;36m__hash_new\u001b[0;34m(name, data)\u001b[0m\n\u001b[1;32m    120\u001b[0m     \"\"\"\n\u001b[1;32m    121\u001b[0m     \u001b[0;32mtry\u001b[0m\u001b[0;34m:\u001b[0m\u001b[0;34m\u001b[0m\u001b[0m\n\u001b[0;32m--> 122\u001b[0;31m         \u001b[0;32mreturn\u001b[0m \u001b[0m_hashlib\u001b[0m\u001b[0;34m.\u001b[0m\u001b[0mnew\u001b[0m\u001b[0;34m(\u001b[0m\u001b[0mname\u001b[0m\u001b[0;34m,\u001b[0m \u001b[0mdata\u001b[0m\u001b[0;34m)\u001b[0m\u001b[0;34m\u001b[0m\u001b[0m\n\u001b[0m\u001b[1;32m    123\u001b[0m     \u001b[0;32mexcept\u001b[0m \u001b[0mValueError\u001b[0m\u001b[0;34m:\u001b[0m\u001b[0;34m\u001b[0m\u001b[0m\n\u001b[1;32m    124\u001b[0m         \u001b[0;31m# If the _hashlib module (OpenSSL) doesn't support the named\u001b[0m\u001b[0;34m\u001b[0m\u001b[0;34m\u001b[0m\u001b[0m\n",
      "\u001b[0;31mTypeError\u001b[0m: Unicode-objects must be encoded before hashing"
     ]
    }
   ],
   "source": [
    "_inst = FancyRandom()\n",
    "state = _inst.getstate()\n",
    "print(_inst.jumpahead(30))"
   ]
  },
  {
   "cell_type": "code",
   "execution_count": 49,
   "metadata": {
    "collapsed": false,
    "deletable": false,
    "nbgrader": {
     "checksum": "b4e4e8e42504801af8d38ecb9e63a396",
     "grade": true,
     "grade_id": "b_4_test",
     "locked": false,
     "points": 1,
     "solution": true
    }
   },
   "outputs": [
    {
     "ename": "TypeError",
     "evalue": "can only concatenate tuple (not \"int\") to tuple",
     "output_type": "error",
     "traceback": [
      "\u001b[0;31m---------------------------------------------------------------------------\u001b[0m",
      "\u001b[0;31mTypeError\u001b[0m                                 Traceback (most recent call last)",
      "\u001b[0;32m<ipython-input-49-de81ca4ee63c>\u001b[0m in \u001b[0;36m<module>\u001b[0;34m()\u001b[0m\n\u001b[1;32m     12\u001b[0m     \u001b[0;32mreturn\u001b[0m  \u001b[0mfinal_number\u001b[0m \u001b[0;34m==\u001b[0m \u001b[0mfinal_number2\u001b[0m\u001b[0;34m\u001b[0m\u001b[0m\n\u001b[1;32m     13\u001b[0m \u001b[0;34m\u001b[0m\u001b[0m\n\u001b[0;32m---> 14\u001b[0;31m \u001b[0;32massert\u001b[0m \u001b[0mtest_transitive\u001b[0m\u001b[0;34m(\u001b[0m\u001b[0;36m10\u001b[0m\u001b[0;34m,\u001b[0m \u001b[0;36m20\u001b[0m\u001b[0;34m)\u001b[0m\u001b[0;34m\u001b[0m\u001b[0m\n\u001b[0m\u001b[1;32m     15\u001b[0m \u001b[0;32massert\u001b[0m \u001b[0mtest_transitive\u001b[0m\u001b[0;34m(\u001b[0m\u001b[0;36m999\u001b[0m\u001b[0;34m,\u001b[0m \u001b[0;36m1234567\u001b[0m\u001b[0;34m)\u001b[0m\u001b[0;34m\u001b[0m\u001b[0m\n",
      "\u001b[0;32m<ipython-input-49-de81ca4ee63c>\u001b[0m in \u001b[0;36mtest_transitive\u001b[0;34m(a, b)\u001b[0m\n\u001b[1;32m      5\u001b[0m     \u001b[0m_inst\u001b[0m \u001b[0;34m=\u001b[0m \u001b[0mFancyRandom\u001b[0m\u001b[0;34m(\u001b[0m\u001b[0;34m)\u001b[0m\u001b[0;34m\u001b[0m\u001b[0m\n\u001b[1;32m      6\u001b[0m     \u001b[0mstate\u001b[0m \u001b[0;34m=\u001b[0m \u001b[0m_inst\u001b[0m\u001b[0;34m.\u001b[0m\u001b[0mgetstate\u001b[0m\u001b[0;34m(\u001b[0m\u001b[0;34m)\u001b[0m\u001b[0;34m\u001b[0m\u001b[0m\n\u001b[0;32m----> 7\u001b[0;31m     \u001b[0mfinal_number\u001b[0m \u001b[0;34m=\u001b[0m \u001b[0m_inst\u001b[0m\u001b[0;34m.\u001b[0m\u001b[0mrandom\u001b[0m\u001b[0;34m(\u001b[0m\u001b[0mstate\u001b[0m \u001b[0;34m+\u001b[0m \u001b[0;34m(\u001b[0m\u001b[0ma\u001b[0m\u001b[0;34m+\u001b[0m\u001b[0mb\u001b[0m\u001b[0;34m)\u001b[0m\u001b[0;34m)\u001b[0m\u001b[0;34m\u001b[0m\u001b[0m\n\u001b[0m\u001b[1;32m      8\u001b[0m     \u001b[0mnew_sate\u001b[0m \u001b[0;34m=\u001b[0m \u001b[0m_inst\u001b[0m\u001b[0;34m.\u001b[0m\u001b[0msetstate\u001b[0m\u001b[0;34m(\u001b[0m\u001b[0mstate\u001b[0m \u001b[0;34m+\u001b[0m \u001b[0ma\u001b[0m\u001b[0;34m)\u001b[0m\u001b[0;34m\u001b[0m\u001b[0m\n\u001b[1;32m      9\u001b[0m     \u001b[0mfinal_number2\u001b[0m \u001b[0;34m=\u001b[0m \u001b[0;32mNone\u001b[0m\u001b[0;34m\u001b[0m\u001b[0m\n",
      "\u001b[0;31mTypeError\u001b[0m: can only concatenate tuple (not \"int\") to tuple"
     ]
    }
   ],
   "source": [
    "def test_transitive(a, b):\n",
    "    \"\"\"\n",
    "    at least test for transitivity, jump(a+b) = jump(a) followed by jump(b)\n",
    "    \"\"\"\n",
    "    _inst = FancyRandom()\n",
    "    state = _inst.getstate()\n",
    "    final_number = _inst.random(state + (a+b))\n",
    "    new_sate = _inst.setstate(state + a)\n",
    "    final_number2 = None\n",
    "    for i in range(b):\n",
    "        final_number2 = _inst.random() \n",
    "    return  final_number == final_number2\n",
    "    \n",
    "assert test_transitive(10, 20)\n",
    "assert test_transitive(999, 1234567)"
   ]
  },
  {
   "cell_type": "code",
   "execution_count": 41,
   "metadata": {
    "collapsed": false
   },
   "outputs": [
    {
     "name": "stdout",
     "output_type": "stream",
     "text": [
      "30\n"
     ]
    }
   ],
   "source": [
    "a = 10\n",
    "b = 20\n",
    "\n",
    "c = a + b\n",
    "d = min(a,b)\n",
    "for i in range(max(a,b)):\n",
    "    d += 1\n",
    "print (d)"
   ]
  },
  {
   "cell_type": "markdown",
   "metadata": {
    "deletable": false,
    "nbgrader": {
     "checksum": "49dcf8467e2d1a53b6d5b75d78209ce6",
     "grade": false,
     "grade_id": "b_5",
     "locked": true,
     "solution": false
    }
   },
   "source": [
    "B.5. getrandbits: at least one test to check exactly k bits are given"
   ]
  },
  {
   "cell_type": "code",
   "execution_count": null,
   "metadata": {
    "collapsed": false,
    "deletable": false,
    "nbgrader": {
     "checksum": "7b96aca097e28a4c3ecf6d883e2d1911",
     "grade": true,
     "grade_id": "b_5_test",
     "locked": false,
     "points": 1,
     "solution": true
    }
   },
   "outputs": [],
   "source": [
    "def test_getrandombits(k):\n",
    "    \"\"\"\n",
    "    Test exactly k bits are given\n",
    "    \"\"\"\n",
    "    # YOUR CODE HERE\n",
    "    raise NotImplementedError()\n",
    "    \n",
    "    \n",
    "test_getrandombits(1)\n",
    "test_getrandombits(32)"
   ]
  },
  {
   "cell_type": "markdown",
   "metadata": {
    "deletable": false,
    "nbgrader": {
     "checksum": "cf123cc616b6eeca9d46da8c384c5804",
     "grade": false,
     "grade_id": "b_6_1",
     "locked": true,
     "solution": false
    }
   },
   "source": [
    "B.6.1. Kolmogorov-Smirnov statistic for random()"
   ]
  },
  {
   "cell_type": "code",
   "execution_count": 16,
   "metadata": {
    "collapsed": false,
    "deletable": false,
    "nbgrader": {
     "checksum": "f51caa65f56908741cda119937a4aebc",
     "grade": true,
     "grade_id": "b_6_1_test",
     "locked": false,
     "points": 1,
     "solution": true
    }
   },
   "outputs": [
    {
     "data": {
      "image/png": "[encoded data removed]",
      "text/plain": [
       "<matplotlib.figure.Figure at 0x1182f9080>"
      ]
     },
     "metadata": {},
     "output_type": "display_data"
    },
    {
     "name": "stdout",
     "output_type": "stream",
     "text": [
      "KstestResult(statistic=0.5000580276582971, pvalue=4.3638426205916403e-12) 0.0136\n"
     ]
    },
    {
     "ename": "AssertionError",
     "evalue": "",
     "output_type": "error",
     "traceback": [
      "\u001b[0;31m---------------------------------------------------------------------------\u001b[0m",
      "\u001b[0;31mAssertionError\u001b[0m                            Traceback (most recent call last)",
      "\u001b[0;32m<ipython-input-16-143fda305204>\u001b[0m in \u001b[0;36m<module>\u001b[0;34m()\u001b[0m\n\u001b[1;32m     27\u001b[0m \u001b[0;34m\u001b[0m\u001b[0m\n\u001b[1;32m     28\u001b[0m \u001b[0;34m\u001b[0m\u001b[0m\n\u001b[0;32m---> 29\u001b[0;31m \u001b[0mtest_uniform_KS\u001b[0m\u001b[0;34m(\u001b[0m\u001b[0;34m)\u001b[0m\u001b[0;34m\u001b[0m\u001b[0m\n\u001b[0m",
      "\u001b[0;32m<ipython-input-16-143fda305204>\u001b[0m in \u001b[0;36mtest_uniform_KS\u001b[0;34m()\u001b[0m\n\u001b[1;32m     24\u001b[0m     \u001b[0;31m#Kolmogorov-Smirnov test statistics, 95% confidence interval\u001b[0m\u001b[0;34m\u001b[0m\u001b[0;34m\u001b[0m\u001b[0m\n\u001b[1;32m     25\u001b[0m     \u001b[0mprint\u001b[0m\u001b[0;34m(\u001b[0m\u001b[0mD_KS\u001b[0m\u001b[0;34m,\u001b[0m \u001b[0;36m1.36\u001b[0m\u001b[0;34m/\u001b[0m\u001b[0mnp\u001b[0m\u001b[0;34m.\u001b[0m\u001b[0msqrt\u001b[0m\u001b[0;34m(\u001b[0m\u001b[0mN\u001b[0m\u001b[0;34m)\u001b[0m\u001b[0;34m)\u001b[0m\u001b[0;34m\u001b[0m\u001b[0m\n\u001b[0;32m---> 26\u001b[0;31m     \u001b[0;32massert\u001b[0m \u001b[0mD_KS\u001b[0m\u001b[0;34m[\u001b[0m\u001b[0;36m0\u001b[0m\u001b[0;34m]\u001b[0m \u001b[0;34m<\u001b[0m \u001b[0;36m1.36\u001b[0m\u001b[0;34m/\u001b[0m\u001b[0mnp\u001b[0m\u001b[0;34m.\u001b[0m\u001b[0msqrt\u001b[0m\u001b[0;34m(\u001b[0m\u001b[0mN\u001b[0m\u001b[0;34m)\u001b[0m\u001b[0;34m\u001b[0m\u001b[0m\n\u001b[0m\u001b[1;32m     27\u001b[0m \u001b[0;34m\u001b[0m\u001b[0m\n\u001b[1;32m     28\u001b[0m \u001b[0;34m\u001b[0m\u001b[0m\n",
      "\u001b[0;31mAssertionError\u001b[0m: "
     ]
    }
   ],
   "source": [
    "import numpy as np\n",
    "import scipy.stats as stats\n",
    "from statsmodels.distributions.empirical_distribution import ECDF\n",
    "import matplotlib.pyplot as plt\n",
    "import seaborn as sns\n",
    "%matplotlib inline\n",
    "\n",
    "def test_uniform_KS():\n",
    "    \"\"\"\n",
    "    Kolmogorov-Smirnov statistic for random()\n",
    "    make sure the KS test statistics is small enough\n",
    "    \"\"\"\n",
    "    N = 10000\n",
    "    data = [FancyRandom().random() for x in range(N)]\n",
    "    ecdf = ECDF(data)\n",
    "    \n",
    "    x = np.linspace(min(data), max(data))\n",
    "    y = ecdf(x)\n",
    "    plt.title(\"Empirical CDF of PRN\")\n",
    "    plt.step(x, y)\n",
    "    plt.show()\n",
    "    D_KS = stats.kstest(x, 'norm')\n",
    "    \n",
    "    #Kolmogorov-Smirnov test statistics, 95% confidence interval\n",
    "    print(D_KS, 1.36/np.sqrt(N))\n",
    "    assert D_KS[0] < 1.36/np.sqrt(N)\n",
    "    \n",
    "    \n",
    "test_uniform_KS()"
   ]
  },
  {
   "cell_type": "markdown",
   "metadata": {
    "deletable": false,
    "nbgrader": {
     "checksum": "c12f3dd22f196be88962e4b51fc30767",
     "grade": false,
     "grade_id": "b_6_2",
     "locked": true,
     "solution": false
    }
   },
   "source": [
    "B.6.2. binomial test for the single-bit frequency for getrandbits()."
   ]
  },
  {
   "cell_type": "code",
   "execution_count": null,
   "metadata": {
    "collapsed": false,
    "deletable": false,
    "nbgrader": {
     "checksum": "cd5c9b4e0b2f83656ac4e2d1333f4a7c",
     "grade": true,
     "grade_id": "b_6_2_test",
     "locked": false,
     "points": 1,
     "solution": true
    }
   },
   "outputs": [],
   "source": [
    "import scipy.stats\n",
    "\n",
    "def test_uniform_binomial():\n",
    "    \"\"\"\n",
    "    binomial test for the single-bit frequency for getrandbits().\n",
    "    make sure the p-value is large enough. \n",
    "    \"\"\"\n",
    "    N = 100000\n",
    "    k = 10\n",
    "    # YOUR CODE HERE\n",
    "    raise NotImplementedError()\n",
    "    assert p_value > 0.8\n",
    "    \n",
    "    \n",
    "test_uniform_binomial()"
   ]
  },
  {
   "cell_type": "markdown",
   "metadata": {
    "deletable": false,
    "nbgrader": {
     "checksum": "00314c676701771d4af0bbfe54570ce3",
     "grade": false,
     "grade_id": "b_7",
     "locked": true,
     "solution": false
    }
   },
   "source": [
    "B.7. tests that your class inherited the expected methods from the parent class"
   ]
  },
  {
   "cell_type": "markdown",
   "metadata": {},
   "source": [
    "According to the assignment: \"Your implementation should inherit `shuffle()`, `choice()`, `sample()`, `randbelow()`...from parent class\"\n",
    "\n",
    "NOTE: I can't find the documentation for `randbelow()`. Perhaps it's been depricated? It isn't importated, but I can't find evidence that this method belongs to `random.Random`"
   ]
  },
  {
   "cell_type": "code",
   "execution_count": 34,
   "metadata": {
    "collapsed": false,
    "deletable": false,
    "nbgrader": {
     "checksum": "566e7467bf07c228e240a23871cc2801",
     "grade": true,
     "grade_id": "b_7_test",
     "locked": false,
     "points": 1,
     "solution": true
    }
   },
   "outputs": [
    {
     "name": "stdout",
     "output_type": "stream",
     "text": [
      "[4 1 0 5 6 3 9 2 8 7] 2 [1, 2]\n"
     ]
    }
   ],
   "source": [
    " def test_inherited():\n",
    "    _inst = FancyRandom()\n",
    "    x = np.arange(10)\n",
    "    shuffled = _inst.shuffle(x)\n",
    "    chosen = _inst.choice([1,2,3,4])\n",
    "    sample = _inst.sample([1,2,3,4], 2)\n",
    "    print(x, chosen, sample)\n",
    "    return\n",
    "\n",
    "test_inherited()"
   ]
  },
  {
   "cell_type": "markdown",
   "metadata": {},
   "source": [
    "All methods work. I'm not sure how to formally test inheritance. I read that unit testing wasn't the way to go."
   ]
  },
  {
   "cell_type": "markdown",
   "metadata": {
    "deletable": false,
    "nbgrader": {
     "checksum": "4196f2576538fdec1a1f824bff104cb9",
     "grade": false,
     "grade_id": "part_c",
     "locked": true,
     "solution": false
    }
   },
   "source": [
    "---\n",
    "## Part c (2 points)\n",
    "Use the Jupyter “magic” %timeit command to compare the amount of time it takes to generate $10^5$ PRNs using your SHA-256 method and using the default Python PRNG. Use the first cell to time your method, the second cell to time Python method, the third cell to discuss possible reasons for the difference. "
   ]
  },
  {
   "cell_type": "code",
   "execution_count": null,
   "metadata": {
    "collapsed": true
   },
   "outputs": [],
   "source": [
    "import uuid"
   ]
  },
  {
   "cell_type": "markdown",
   "metadata": {},
   "source": [
    "### Generating $10^5$  pseudo-random numbers using SHA-256"
   ]
  },
  {
   "cell_type": "code",
   "execution_count": null,
   "metadata": {
    "collapsed": false,
    "deletable": false,
    "nbgrader": {
     "checksum": "5fd00694577024a23111c2e5417df4fb",
     "grade": true,
     "grade_id": "c_2",
     "locked": false,
     "points": 0.5,
     "solution": true
    }
   },
   "outputs": [],
   "source": [
    "#? %timeit"
   ]
  },
  {
   "cell_type": "code",
   "execution_count": null,
   "metadata": {
    "collapsed": false
   },
   "outputs": [],
   "source": [
    "def prn_sha256():\n",
    "    for i in range(100000):\n",
    "        data = uuid.uuid4().hex\n",
    "        prn = int(_hashlib.sha256(data.encode()).hexdigest(), 16)\n",
    "\n",
    "print('SHA-256: ')\n",
    "%timeit -n10000 -r100 prn_sha256"
   ]
  },
  {
   "cell_type": "markdown",
   "metadata": {
    "collapsed": false,
    "deletable": false,
    "nbgrader": {
     "checksum": "ce0aaae84387798be61d3c51d10c2206",
     "grade": true,
     "grade_id": "c_1",
     "locked": false,
     "points": 0.5,
     "solution": true
    }
   },
   "source": [
    "### Generating $10^5$  pseudo-random numbers using Default Python PRNG"
   ]
  },
  {
   "cell_type": "code",
   "execution_count": null,
   "metadata": {
    "collapsed": false,
    "deletable": false,
    "nbgrader": {
     "checksum": "8a59a0225b041ae4a6c530fe9bd35aa6",
     "grade": true,
     "grade_id": "c_3",
     "locked": false,
     "points": 1,
     "solution": true
    },
    "scrolled": true
   },
   "outputs": [],
   "source": [
    "def prn_default():\n",
    "    for i in range(100000):\n",
    "        prn = random.randint(0, 10e70)\n",
    "        \n",
    "print('Python Default: ')\n",
    "%timeit -n10000 -r100 prn_default"
   ]
  },
  {
   "cell_type": "markdown",
   "metadata": {},
   "source": [
    "## Conclusion: Both have very similar performance"
   ]
  },
  {
   "cell_type": "code",
   "execution_count": null,
   "metadata": {
    "collapsed": false,
    "deletable": false,
    "nbgrader": {
     "checksum": "e83248c3be425630e5728bcbec62de42",
     "grade": true,
     "grade_id": "a_random",
     "locked": false,
     "points": 4,
     "solution": true
    }
   },
   "outputs": [],
   "source": []
  }
 ],
 "metadata": {
  "anaconda-cloud": {},
  "kernelspec": {
   "display_name": "Python [default]",
   "language": "python",
   "name": "python3"
  },
  "language_info": {
   "codemirror_mode": {
    "name": "ipython",
    "version": 3
   },
   "file_extension": ".py",
   "mimetype": "text/x-python",
   "name": "python",
   "nbconvert_exporter": "python",
   "pygments_lexer": "ipython3",
   "version": "3.5.2"
  }
 },
 "nbformat": 4,
 "nbformat_minor": 0
}
