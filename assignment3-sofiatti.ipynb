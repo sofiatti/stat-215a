{
 "cells": [
  {
   "cell_type": "markdown",
   "metadata": {
    "deletable": false,
    "nbgrader": {
     "checksum": "febe71d3d81af3aab7b634cadcaef0f5",
     "grade": false,
     "grade_id": "title",
     "locked": true,
     "solution": false
    }
   },
   "source": [
    "## Assignment 3 (Due 11 November 2016 by 11:59pm)\n",
    "\n",
    "By Caroline Sofiatti Nunes"
   ]
  },
  {
   "cell_type": "markdown",
   "metadata": {
    "deletable": false,
    "nbgrader": {
     "checksum": "6c3f6509ff67abd272599ccd743f4afa",
     "grade": false,
     "grade_id": "part_a",
     "locked": true,
     "solution": false
    }
   },
   "source": [
    "---\n",
    "## Part a (5 points)\n",
    "Implement an object-oriented PRNG based on the SHA-256 hash of a seed concatenated with a sequence number, in Python, by subclassing the class Random and overwriting the methods random(), seed(), getstate(), setstate(), jumpahead(), and getrandbits(). Your implementation should inherit shuffle(), choice(), sample(), randbelow(), etc., from the parent Random class."
   ]
  },
  {
   "cell_type": "code",
   "execution_count": 1,
   "metadata": {
    "collapsed": false
   },
   "outputs": [],
   "source": [
    "import random\n",
    "import hashlib as _hashlib\n",
    "from os import urandom as _urandom\n",
    "from binascii import hexlify as _hexlify\n",
    "\n",
    "# Based on Wichmann-Hill\n",
    "class FancyRandom(random.Random):\n",
    "    \"\"\"\n",
    "    PRNG based on the SHA-256 hash of a seed concatenated with a sequence number\n",
    "    You should overwrite the methods random(), seed(), getstate(), setstate(), jumpahead(), and getrandbits()\n",
    "    \"\"\"\n",
    "    VERSION = 1     # used by getstate/setstate\n",
    "\n",
    "    def seed(self, a=None):\n",
    "        if a is None:\n",
    "            try:\n",
    "                a = int(_hexlify(_urandom(16)), 16)\n",
    "            except NotImplementedError:\n",
    "                import time\n",
    "                a = int(time.time() * 256) # use fractional seconds\n",
    "\n",
    "        if not isinstance(a, (int, int)):\n",
    "            a = hash(a)\n",
    "\n",
    "        a, x = divmod(a, 30268)\n",
    "        a, y = divmod(a, 30306)\n",
    "        a, z = divmod(a, 30322)\n",
    "        self._seed = int(x)+1, int(y)+1, int(z)+1\n",
    "\n",
    "        self.gauss_next = None\n",
    "\n",
    "    def random(self):\n",
    "        \"\"\"Get the next random number in the range [0.0, 1.0).\"\"\"\n",
    "        x, y, z = self._seed\n",
    "        x = (171 * x) % 30269\n",
    "        y = (172 * y) % 30307\n",
    "        z = (170 * z) % 30323\n",
    "        self._seed = x, y, z\n",
    "        return (x/30269.0 + y/30307.0 + z/30323.0) % 1.0\n",
    "\n",
    "    def getstate(self):\n",
    "        \"\"\"Return internal state; can be passed to setstate() later.\"\"\"\n",
    "        return self.VERSION, self._seed, self.gauss_next\n",
    "\n",
    "    def setstate(self, state):\n",
    "        \"\"\"Restore internal state from object returned by getstate().\"\"\"\n",
    "        version = state[0]\n",
    "        if version == 1:\n",
    "            version, self._seed, self.gauss_next = state\n",
    "        else:\n",
    "            raise ValueError(\"state with version %s passed to \"\n",
    "                             \"Random.setstate() of version %s\" %\n",
    "                             (version, self.VERSION))\n",
    "\n",
    "    def jumpahead(self, n):\n",
    "        if not n >= 0:\n",
    "            raise ValueError(\"n must be >= 0\")\n",
    "        x, y, z = self._seed\n",
    "        x = int(x * pow(171, n, 30269)) % 30269\n",
    "        y = int(y * pow(172, n, 30307)) % 30307\n",
    "        z = int(z * pow(170, n, 30323)) % 30323\n",
    "        self._seed = x, y, z\n",
    "\n",
    "    def getrandombits(self, k):\n",
    "        \"\"\"getrandbits(k) -> x.  Generates an int with k random bits.\"\"\"\n",
    "        if k <= 0:\n",
    "            raise ValueError('number of bits must be greater than zero')\n",
    "        if k != int(k):\n",
    "            raise TypeError('number of bits should be an integer')\n",
    "        bytes = (k + 7) // 8                    # bits / 8 and rounded up\n",
    "        x = int(_hexlify(_urandom(bytes)), 16)\n",
    "        return x >> (bytes * 8 - k)             # trim excess bits\n"
   ]
  },
  {
   "cell_type": "code",
   "execution_count": 2,
   "metadata": {
    "collapsed": false,
    "deletable": false,
    "nbgrader": {
     "checksum": "fe7c2e52537565103e6001a971146750",
     "grade": true,
     "grade_id": "a_test1",
     "locked": true,
     "points": 1,
     "solution": false
    }
   },
   "outputs": [],
   "source": [
    "def test_random01(seed):\n",
    "    \"\"\"\n",
    "    Test the random number is in the range [0.0, 1.0)\n",
    "    \"\"\"\n",
    "    random_generator = FancyRandom()\n",
    "    random_generator.seed(seed)\n",
    "    res = random_generator.random()\n",
    "    return res < 1 and res >= 0 \n",
    "\n",
    "assert test_random01(123456)\n",
    "\n",
    "def test_random01_all(n):\n",
    "    \"\"\"\n",
    "    Test the random number is in the range [0.0, 1.0)\n",
    "    for n different seeds\n",
    "    \"\"\"\n",
    "    for i in range(n):\n",
    "        if not test_random01(i):\n",
    "            return False\n",
    "    return True\n",
    "\n",
    "assert test_random01_all(1000)"
   ]
  },
  {
   "cell_type": "markdown",
   "metadata": {
    "deletable": false,
    "nbgrader": {
     "checksum": "c16d57e78c34dd9f29f437a2d9ba8c2e",
     "grade": false,
     "grade_id": "part_b",
     "locked": true,
     "solution": false
    }
   },
   "source": [
    "---\n",
    "## Part b (8 points)\n",
    "Implement tests of: \n",
    "\n",
    "(at least one for each, more tests will be **bonus**)\n",
    "1. setting the seed: at least one test to take care of int, long, str seed\n",
    "2. setting the state\n",
    "3. getting the state\n",
    "4. jumping ahead: at least one test for transitivity, \"jump(a+b) = jump(a) followed by jump(b)\"\n",
    "5. getrandbits: at least one test to check exactly k bits are given\n",
    "6. at least two tests for uniformity, with “reasonable” power to detect a bug, including a test using the Kolmogorov-Smirnov statistic for random() and a binomial test for the single-bit frequency for getrandbits().\n",
    "7. tests that your class inherited the expected methods from the parent class"
   ]
  },
  {
   "cell_type": "markdown",
   "metadata": {
    "deletable": false,
    "nbgrader": {
     "checksum": "c059c3ca779af3a79465e2ad106d7216",
     "grade": false,
     "grade_id": "b_1",
     "locked": true,
     "solution": false
    }
   },
   "source": [
    "B.1. setting the seed: at least one test to check same seed gives same result"
   ]
  },
  {
   "cell_type": "code",
   "execution_count": 3,
   "metadata": {
    "collapsed": false,
    "deletable": false,
    "nbgrader": {
     "checksum": "e65a03ed8de7fcb6d43c7dcd606178c9",
     "grade": true,
     "grade_id": "b_1_test",
     "locked": false,
     "points": 1,
     "solution": true
    }
   },
   "outputs": [
    {
     "name": "stdout",
     "output_type": "stream",
     "text": [
      "0.039528283053864105 0.039528283053864105\n"
     ]
    }
   ],
   "source": [
    "def test_seed():\n",
    "    \"\"\"\n",
    "    at least check same seed will give same result\n",
    "    \"\"\"\n",
    "    random_generator = FancyRandom()\n",
    "    random_generator.seed(4)\n",
    "    a = random_generator.random()\n",
    "    random_generator.seed(4)\n",
    "    b = random_generator.random()\n",
    "    print(a, b)\n",
    "    assert a == b\n",
    "    \n",
    "test_seed()"
   ]
  },
  {
   "cell_type": "markdown",
   "metadata": {
    "deletable": false,
    "nbgrader": {
     "checksum": "ea66b6df1119ed56fdbde7783c70697b",
     "grade": false,
     "grade_id": "b_2",
     "locked": true,
     "solution": false
    }
   },
   "source": [
    "B.2. setting the state"
   ]
  },
  {
   "cell_type": "code",
   "execution_count": 4,
   "metadata": {
    "collapsed": false,
    "deletable": false,
    "nbgrader": {
     "checksum": "bdc5627f579bde50a4ec039d8819fb66",
     "grade": true,
     "grade_id": "b_2_test",
     "locked": false,
     "points": 1,
     "solution": true
    }
   },
   "outputs": [
    {
     "name": "stdout",
     "output_type": "stream",
     "text": [
      "0.16176923168104151 0.16176923168104151\n"
     ]
    },
    {
     "data": {
      "text/plain": [
       "True"
      ]
     },
     "execution_count": 4,
     "metadata": {},
     "output_type": "execute_result"
    }
   ],
   "source": [
    "def test_setstate():\n",
    "    _inst = FancyRandom()\n",
    "    state = _inst.getstate()\n",
    "    next = _inst.random()\n",
    "    _inst.setstate(state)\n",
    "    nnext = _inst.random()\n",
    "    print(next, nnext)\n",
    "    if next == nnext:\n",
    "        return True\n",
    "    else:\n",
    "        return False\n",
    "    assert test_setstate()\n",
    "\n",
    "test_setstate()"
   ]
  },
  {
   "cell_type": "markdown",
   "metadata": {
    "deletable": false,
    "nbgrader": {
     "checksum": "fd40f6196d6507f5078fdfe71afecb2c",
     "grade": false,
     "grade_id": "b_3",
     "locked": true,
     "solution": false
    }
   },
   "source": [
    "B.3. getting the state"
   ]
  },
  {
   "cell_type": "code",
   "execution_count": 5,
   "metadata": {
    "collapsed": false,
    "deletable": false,
    "nbgrader": {
     "checksum": "51cb88cea9cbb5251b02b582adbdb72b",
     "grade": true,
     "grade_id": "b_3_test",
     "locked": false,
     "points": 1,
     "solution": true
    }
   },
   "outputs": [],
   "source": [
    "# test_setstate works to test getstate as well. Here is another test:\n",
    "def test_getstate():\n",
    "    _inst = FancyRandom()\n",
    "    state = _inst.getstate()\n",
    "    _inst2 = FancyRandom()\n",
    "    state2 = _inst.getstate()\n",
    "    if state == state2:\n",
    "        return True\n",
    "    else:\n",
    "        return False\n",
    "assert test_getstate()"
   ]
  },
  {
   "cell_type": "markdown",
   "metadata": {
    "deletable": false,
    "nbgrader": {
     "checksum": "d609f0377ba028316ba929b6b966e8ca",
     "grade": false,
     "grade_id": "b_4",
     "locked": true,
     "solution": false
    }
   },
   "source": [
    "B.4. jumping ahead: at least one test for transitivity, \"jump(a+b) = jump(a) followed by jump(b)\""
   ]
  },
  {
   "cell_type": "code",
   "execution_count": 6,
   "metadata": {
    "collapsed": false
   },
   "outputs": [
    {
     "name": "stdout",
     "output_type": "stream",
     "text": [
      "0.2597236074008813\n",
      "0.2597236074008813\n"
     ]
    }
   ],
   "source": [
    "def test_jumpingahead(a, b):\n",
    "    _inst = FancyRandom(5)\n",
    "    _inst2 = FancyRandom(5)\n",
    "    _inst.jumpahead(a+b)\n",
    "    _inst2.jumpahead(a)\n",
    "    _inst2.jumpahead(b)\n",
    "    print (_inst.random())\n",
    "    print (_inst2.random())\n",
    "    if _inst.random() == _inst2.random():\n",
    "        return True\n",
    "    else:\n",
    "        return False\n",
    "test_jumpingahead(10,20)\n",
    "assert test_getstate()    "
   ]
  },
  {
   "cell_type": "markdown",
   "metadata": {
    "deletable": false,
    "nbgrader": {
     "checksum": "49dcf8467e2d1a53b6d5b75d78209ce6",
     "grade": false,
     "grade_id": "b_5",
     "locked": true,
     "solution": false
    }
   },
   "source": [
    "B.5. getrandbits: at least one test to check exactly k bits are given"
   ]
  },
  {
   "cell_type": "code",
   "execution_count": 7,
   "metadata": {
    "collapsed": false,
    "deletable": false,
    "nbgrader": {
     "checksum": "7b96aca097e28a4c3ecf6d883e2d1911",
     "grade": true,
     "grade_id": "b_5_test",
     "locked": false,
     "points": 1,
     "solution": true
    }
   },
   "outputs": [
    {
     "name": "stdout",
     "output_type": "stream",
     "text": [
      "1 1\n",
      "32 31\n"
     ]
    },
    {
     "data": {
      "text/plain": [
       "False"
      ]
     },
     "execution_count": 7,
     "metadata": {},
     "output_type": "execute_result"
    }
   ],
   "source": [
    "import math\n",
    "def number_of_bits(n):\n",
    "    return int(math.log(n, 2)) + 1\n",
    "\n",
    "def test_getrandombits(k):\n",
    "    \"\"\"\n",
    "    Test exactly k bits are given\n",
    "    \"\"\"\n",
    "    random_generator = FancyRandom(5)\n",
    "    num = random_generator.getrandombits(k)\n",
    "    num_to_bits = num.bit_length()\n",
    "    print(k, num_to_bits)\n",
    "    if k == num_to_bits:\n",
    "        return True\n",
    "    else:\n",
    "        return False\n",
    "    \n",
    "test_getrandombits(1)\n",
    "test_getrandombits(32)"
   ]
  },
  {
   "cell_type": "markdown",
   "metadata": {
    "collapsed": false,
    "deletable": false,
    "nbgrader": {
     "checksum": "e83248c3be425630e5728bcbec62de42",
     "grade": true,
     "grade_id": "a_random",
     "locked": false,
     "points": 4,
     "solution": true
    }
   },
   "source": []
  },
  {
   "cell_type": "markdown",
   "metadata": {
    "deletable": false,
    "nbgrader": {
     "checksum": "cf123cc616b6eeca9d46da8c384c5804",
     "grade": false,
     "grade_id": "b_6_1",
     "locked": true,
     "solution": false
    }
   },
   "source": [
    "B.6.1. Kolmogorov-Smirnov statistic for random()"
   ]
  },
  {
   "cell_type": "code",
   "execution_count": 8,
   "metadata": {
    "collapsed": false,
    "deletable": false,
    "nbgrader": {
     "checksum": "f51caa65f56908741cda119937a4aebc",
     "grade": true,
     "grade_id": "b_6_1_test",
     "locked": false,
     "points": 1,
     "solution": true
    }
   },
   "outputs": [
    {
     "data": {
      "image/png": "[encoded data removed]",
      "text/plain": [
       "<matplotlib.figure.Figure at 0x104b616d8>"
      ]
     },
     "metadata": {},
     "output_type": "display_data"
    },
    {
     "name": "stdout",
     "output_type": "stream",
     "text": [
      "KstestResult(statistic=0.50003529221910892, pvalue=4.3751668954428169e-12) 0.0136\n"
     ]
    }
   ],
   "source": [
    "import numpy as np\n",
    "import scipy.stats as stats\n",
    "from statsmodels.distributions.empirical_distribution import ECDF\n",
    "import matplotlib.pyplot as plt\n",
    "import seaborn as sns\n",
    "%matplotlib inline\n",
    "\n",
    "def test_uniform_KS():\n",
    "    \"\"\"\n",
    "    Kolmogorov-Smirnov statistic for random()\n",
    "    make sure the KS test statistics is small enough\n",
    "    \"\"\"\n",
    "    N = 10000\n",
    "    data = [FancyRandom().random() for x in range(N)]\n",
    "    ecdf = ECDF(data)\n",
    "    \n",
    "    x = np.linspace(min(data), max(data))\n",
    "    y = ecdf(x)\n",
    "    plt.title(\"Empirical CDF of PRN\")\n",
    "    plt.step(x, y)\n",
    "    plt.show()\n",
    "    D_KS = stats.kstest(x, 'norm')\n",
    "    \n",
    "    #Kolmogorov-Smirnov test statistics, 95% confidence interval\n",
    "    print(D_KS, 1.36/np.sqrt(N))\n",
    "    assert D_KS[1] < 1.36/np.sqrt(N)\n",
    "    \n",
    "    \n",
    "test_uniform_KS()"
   ]
  },
  {
   "cell_type": "markdown",
   "metadata": {
    "deletable": false,
    "nbgrader": {
     "checksum": "c12f3dd22f196be88962e4b51fc30767",
     "grade": false,
     "grade_id": "b_6_2",
     "locked": true,
     "solution": false
    }
   },
   "source": [
    "B.6.2. binomial test for the single-bit frequency for getrandbits()."
   ]
  },
  {
   "cell_type": "code",
   "execution_count": 40,
   "metadata": {
    "collapsed": false,
    "deletable": false,
    "nbgrader": {
     "checksum": "cd5c9b4e0b2f83656ac4e2d1333f4a7c",
     "grade": true,
     "grade_id": "b_6_2_test",
     "locked": false,
     "points": 1,
     "solution": true
    }
   },
   "outputs": [
    {
     "name": "stdout",
     "output_type": "stream",
     "text": [
      "50040 100000\n",
      "0.802726753309\n"
     ]
    }
   ],
   "source": [
    "import scipy.stats\n",
    "\n",
    "def test_uniform_binomial():\n",
    "    \"\"\"\n",
    "    binomial test for the single-bit frequency for getrandombits().\n",
    "    make sure the p-value is large enough. \n",
    "    \"\"\"\n",
    "    N = 100000\n",
    "    k = 10\n",
    "    success = 0\n",
    "    for i in range(N):\n",
    "        random_generator = FancyRandom(5)\n",
    "        num = random_generator.getrandombits(k)\n",
    "        num_to_bits = num.bit_length()\n",
    "        if num_to_bits==10:\n",
    "            success += 1\n",
    "    print(success, N)\n",
    "    p_value = scipy.stats.binom_test(success, N)\n",
    "    print(p_value)\n",
    "    assert p_value > 0.8\n",
    "    \n",
    "test_uniform_binomial()\n",
    "#test_uniform_binomial()"
   ]
  },
  {
   "cell_type": "markdown",
   "metadata": {
    "deletable": false,
    "nbgrader": {
     "checksum": "00314c676701771d4af0bbfe54570ce3",
     "grade": false,
     "grade_id": "b_7",
     "locked": true,
     "solution": false
    }
   },
   "source": [
    "B.7. tests that your class inherited the expected methods from the parent class"
   ]
  },
  {
   "cell_type": "markdown",
   "metadata": {},
   "source": [
    "According to the assignment: \"Your implementation should inherit `shuffle()`, `choice()`, `sample()`, `randbelow()`...from parent class\"\n",
    "\n",
    "NOTE: I can't find the documentation for `randbelow()`. Perhaps it's been depricated? It isn't importated, but I can't find evidence that this method belongs to `random.Random`"
   ]
  },
  {
   "cell_type": "code",
   "execution_count": null,
   "metadata": {
    "collapsed": false,
    "deletable": false,
    "nbgrader": {
     "checksum": "566e7467bf07c228e240a23871cc2801",
     "grade": true,
     "grade_id": "b_7_test",
     "locked": false,
     "points": 1,
     "solution": true
    }
   },
   "outputs": [],
   "source": [
    " def test_inherited():\n",
    "    _inst = FancyRandom()\n",
    "    x = np.arange(10)\n",
    "    shuffled = _inst.shuffle(x)\n",
    "    chosen = _inst.choice([1,2,3,4])\n",
    "    sample = _inst.sample([1,2,3,4], 2)\n",
    "    print(x, chosen, sample)\n",
    "    return\n",
    "\n",
    "test_inherited()"
   ]
  },
  {
   "cell_type": "markdown",
   "metadata": {},
   "source": [
    "All methods work. I'm not sure how to formally test inheritance. I read that unit testing wasn't the way to go."
   ]
  },
  {
   "cell_type": "markdown",
   "metadata": {
    "deletable": false,
    "nbgrader": {
     "checksum": "4196f2576538fdec1a1f824bff104cb9",
     "grade": false,
     "grade_id": "part_c",
     "locked": true,
     "solution": false
    }
   },
   "source": [
    "---\n",
    "## Part c (2 points)\n",
    "Use the Jupyter “magic” %timeit command to compare the amount of time it takes to generate $10^5$ PRNs using your SHA-256 method and using the default Python PRNG. Use the first cell to time your method, the second cell to time Python method, the third cell to discuss possible reasons for the difference. "
   ]
  },
  {
   "cell_type": "code",
   "execution_count": null,
   "metadata": {
    "collapsed": true
   },
   "outputs": [],
   "source": [
    "import uuid"
   ]
  },
  {
   "cell_type": "markdown",
   "metadata": {},
   "source": [
    "### Generating $10^5$  pseudo-random numbers using SHA-256"
   ]
  },
  {
   "cell_type": "code",
   "execution_count": null,
   "metadata": {
    "collapsed": false,
    "deletable": false,
    "nbgrader": {
     "checksum": "5fd00694577024a23111c2e5417df4fb",
     "grade": true,
     "grade_id": "c_2",
     "locked": false,
     "points": 0.5,
     "solution": true
    }
   },
   "outputs": [],
   "source": [
    "#? %timeit"
   ]
  },
  {
   "cell_type": "code",
   "execution_count": null,
   "metadata": {
    "collapsed": false
   },
   "outputs": [],
   "source": [
    "def prn_sha256():\n",
    "    for i in range(100000):\n",
    "        data = uuid.uuid4().hex\n",
    "        prn = int(_hashlib.sha256(data.encode()).hexdigest(), 16)\n",
    "\n",
    "print('SHA-256: ')\n",
    "%timeit -n10000 -r100 prn_sha256"
   ]
  },
  {
   "cell_type": "markdown",
   "metadata": {
    "collapsed": false,
    "deletable": false,
    "nbgrader": {
     "checksum": "ce0aaae84387798be61d3c51d10c2206",
     "grade": true,
     "grade_id": "c_1",
     "locked": false,
     "points": 0.5,
     "solution": true
    }
   },
   "source": [
    "### Generating $10^5$  pseudo-random numbers using Default Python PRNG"
   ]
  },
  {
   "cell_type": "code",
   "execution_count": null,
   "metadata": {
    "collapsed": false,
    "deletable": false,
    "nbgrader": {
     "checksum": "8a59a0225b041ae4a6c530fe9bd35aa6",
     "grade": true,
     "grade_id": "c_3",
     "locked": false,
     "points": 1,
     "solution": true
    },
    "scrolled": true
   },
   "outputs": [],
   "source": [
    "def prn_default():\n",
    "    for i in range(100000):\n",
    "        prn = random.randint(0, 10e70)\n",
    "        \n",
    "print('Python Default: ')\n",
    "%timeit -n10000 -r100 prn_default"
   ]
  },
  {
   "cell_type": "markdown",
   "metadata": {},
   "source": [
    "## Conclusion: Both have very similar performance"
   ]
  },
  {
   "cell_type": "code",
   "execution_count": null,
   "metadata": {
    "collapsed": false,
    "deletable": false,
    "nbgrader": {
     "checksum": "b4e4e8e42504801af8d38ecb9e63a396",
     "grade": true,
     "grade_id": "b_4_test",
     "locked": false,
     "points": 1,
     "solution": true
    },
    "scrolled": true
   },
   "outputs": [],
   "source": []
  }
 ],
 "metadata": {
  "anaconda-cloud": {},
  "kernelspec": {
   "display_name": "Python [default]",
   "language": "python",
   "name": "python3"
  },
  "language_info": {
   "codemirror_mode": {
    "name": "ipython",
    "version": 3
   },
   "file_extension": ".py",
   "mimetype": "text/x-python",
   "name": "python",
   "nbconvert_exporter": "python",
   "pygments_lexer": "ipython3",
   "version": "3.5.2"
  }
 },
 "nbformat": 4,
 "nbformat_minor": 0
}
